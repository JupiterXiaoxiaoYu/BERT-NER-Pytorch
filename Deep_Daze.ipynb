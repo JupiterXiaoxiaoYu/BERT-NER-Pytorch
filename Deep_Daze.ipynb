{
  "nbformat": 4,
  "nbformat_minor": 0,
  "metadata": {
    "colab": {
      "name": "Deep Daze",
      "provenance": [],
      "collapsed_sections": [],
      "include_colab_link": true
    },
    "kernelspec": {
      "name": "python3",
      "display_name": "Python 3"
    },
    "accelerator": "GPU",
    "widgets": {
      "application/vnd.jupyter.widget-state+json": {
        "3ef01c84946646cab3314fd7259f9103": {
          "model_module": "@jupyter-widgets/controls",
          "model_name": "HBoxModel",
          "model_module_version": "1.5.0",
          "state": {
            "_view_name": "HBoxView",
            "_dom_classes": [],
            "_model_name": "HBoxModel",
            "_view_module": "@jupyter-widgets/controls",
            "_model_module_version": "1.5.0",
            "_view_count": null,
            "_view_module_version": "1.5.0",
            "box_style": "",
            "layout": "IPY_MODEL_694c7c9bd5fd4063b84d27bd17f031c2",
            "_model_module": "@jupyter-widgets/controls",
            "children": [
              "IPY_MODEL_1e2bd9d543da4d3cb6f3c6fcf3ec5a22",
              "IPY_MODEL_b73081131d33449494f35dacc38b89ff",
              "IPY_MODEL_7a3184cb0f074868863c78d95dd887df"
            ]
          }
        },
        "694c7c9bd5fd4063b84d27bd17f031c2": {
          "model_module": "@jupyter-widgets/base",
          "model_name": "LayoutModel",
          "model_module_version": "1.2.0",
          "state": {
            "_view_name": "LayoutView",
            "grid_template_rows": null,
            "right": null,
            "justify_content": null,
            "_view_module": "@jupyter-widgets/base",
            "overflow": null,
            "_model_module_version": "1.2.0",
            "_view_count": null,
            "flex_flow": null,
            "width": null,
            "min_width": null,
            "border": null,
            "align_items": null,
            "bottom": null,
            "_model_module": "@jupyter-widgets/base",
            "top": null,
            "grid_column": null,
            "overflow_y": null,
            "overflow_x": null,
            "grid_auto_flow": null,
            "grid_area": null,
            "grid_template_columns": null,
            "flex": null,
            "_model_name": "LayoutModel",
            "justify_items": null,
            "grid_row": null,
            "max_height": null,
            "align_content": null,
            "visibility": null,
            "align_self": null,
            "height": null,
            "min_height": null,
            "padding": null,
            "grid_auto_rows": null,
            "grid_gap": null,
            "max_width": null,
            "order": null,
            "_view_module_version": "1.2.0",
            "grid_template_areas": null,
            "object_position": null,
            "object_fit": null,
            "grid_auto_columns": null,
            "margin": null,
            "display": null,
            "left": null
          }
        },
        "1e2bd9d543da4d3cb6f3c6fcf3ec5a22": {
          "model_module": "@jupyter-widgets/controls",
          "model_name": "HTMLModel",
          "model_module_version": "1.5.0",
          "state": {
            "_view_name": "HTMLView",
            "style": "IPY_MODEL_1f119cae2d8042adba0a94be84ad747e",
            "_dom_classes": [],
            "description": "",
            "_model_name": "HTMLModel",
            "placeholder": "​",
            "_view_module": "@jupyter-widgets/controls",
            "_model_module_version": "1.5.0",
            "value": "epochs:   0%",
            "_view_count": null,
            "_view_module_version": "1.5.0",
            "description_tooltip": null,
            "_model_module": "@jupyter-widgets/controls",
            "layout": "IPY_MODEL_2aebcc79d3f74ef3bdccf94b6fe5c520"
          }
        },
        "b73081131d33449494f35dacc38b89ff": {
          "model_module": "@jupyter-widgets/controls",
          "model_name": "FloatProgressModel",
          "model_module_version": "1.5.0",
          "state": {
            "_view_name": "ProgressView",
            "style": "IPY_MODEL_c7f083d89a6e4e79ab17b5c98c4cadea",
            "_dom_classes": [],
            "description": "",
            "_model_name": "FloatProgressModel",
            "bar_style": "",
            "max": 20,
            "_view_module": "@jupyter-widgets/controls",
            "_model_module_version": "1.5.0",
            "value": 0,
            "_view_count": null,
            "_view_module_version": "1.5.0",
            "orientation": "horizontal",
            "min": 0,
            "description_tooltip": null,
            "_model_module": "@jupyter-widgets/controls",
            "layout": "IPY_MODEL_2f0c8e7940884e5ab782afca93a5f727"
          }
        },
        "7a3184cb0f074868863c78d95dd887df": {
          "model_module": "@jupyter-widgets/controls",
          "model_name": "HTMLModel",
          "model_module_version": "1.5.0",
          "state": {
            "_view_name": "HTMLView",
            "style": "IPY_MODEL_55b380d332b04efd8a9c72cbe1ab1c47",
            "_dom_classes": [],
            "description": "",
            "_model_name": "HTMLModel",
            "placeholder": "​",
            "_view_module": "@jupyter-widgets/controls",
            "_model_module_version": "1.5.0",
            "value": " 0/20 [16:45&lt;?, ?it/s]",
            "_view_count": null,
            "_view_module_version": "1.5.0",
            "description_tooltip": null,
            "_model_module": "@jupyter-widgets/controls",
            "layout": "IPY_MODEL_3d7b469319dd4b2a9968cd7e3262660f"
          }
        },
        "1f119cae2d8042adba0a94be84ad747e": {
          "model_module": "@jupyter-widgets/controls",
          "model_name": "DescriptionStyleModel",
          "model_module_version": "1.5.0",
          "state": {
            "_view_name": "StyleView",
            "_model_name": "DescriptionStyleModel",
            "description_width": "",
            "_view_module": "@jupyter-widgets/base",
            "_model_module_version": "1.5.0",
            "_view_count": null,
            "_view_module_version": "1.2.0",
            "_model_module": "@jupyter-widgets/controls"
          }
        },
        "2aebcc79d3f74ef3bdccf94b6fe5c520": {
          "model_module": "@jupyter-widgets/base",
          "model_name": "LayoutModel",
          "model_module_version": "1.2.0",
          "state": {
            "_view_name": "LayoutView",
            "grid_template_rows": null,
            "right": null,
            "justify_content": null,
            "_view_module": "@jupyter-widgets/base",
            "overflow": null,
            "_model_module_version": "1.2.0",
            "_view_count": null,
            "flex_flow": null,
            "width": null,
            "min_width": null,
            "border": null,
            "align_items": null,
            "bottom": null,
            "_model_module": "@jupyter-widgets/base",
            "top": null,
            "grid_column": null,
            "overflow_y": null,
            "overflow_x": null,
            "grid_auto_flow": null,
            "grid_area": null,
            "grid_template_columns": null,
            "flex": null,
            "_model_name": "LayoutModel",
            "justify_items": null,
            "grid_row": null,
            "max_height": null,
            "align_content": null,
            "visibility": null,
            "align_self": null,
            "height": null,
            "min_height": null,
            "padding": null,
            "grid_auto_rows": null,
            "grid_gap": null,
            "max_width": null,
            "order": null,
            "_view_module_version": "1.2.0",
            "grid_template_areas": null,
            "object_position": null,
            "object_fit": null,
            "grid_auto_columns": null,
            "margin": null,
            "display": null,
            "left": null
          }
        },
        "c7f083d89a6e4e79ab17b5c98c4cadea": {
          "model_module": "@jupyter-widgets/controls",
          "model_name": "ProgressStyleModel",
          "model_module_version": "1.5.0",
          "state": {
            "_view_name": "StyleView",
            "_model_name": "ProgressStyleModel",
            "description_width": "",
            "_view_module": "@jupyter-widgets/base",
            "_model_module_version": "1.5.0",
            "_view_count": null,
            "_view_module_version": "1.2.0",
            "bar_color": null,
            "_model_module": "@jupyter-widgets/controls"
          }
        },
        "2f0c8e7940884e5ab782afca93a5f727": {
          "model_module": "@jupyter-widgets/base",
          "model_name": "LayoutModel",
          "model_module_version": "1.2.0",
          "state": {
            "_view_name": "LayoutView",
            "grid_template_rows": null,
            "right": null,
            "justify_content": null,
            "_view_module": "@jupyter-widgets/base",
            "overflow": null,
            "_model_module_version": "1.2.0",
            "_view_count": null,
            "flex_flow": null,
            "width": null,
            "min_width": null,
            "border": null,
            "align_items": null,
            "bottom": null,
            "_model_module": "@jupyter-widgets/base",
            "top": null,
            "grid_column": null,
            "overflow_y": null,
            "overflow_x": null,
            "grid_auto_flow": null,
            "grid_area": null,
            "grid_template_columns": null,
            "flex": null,
            "_model_name": "LayoutModel",
            "justify_items": null,
            "grid_row": null,
            "max_height": null,
            "align_content": null,
            "visibility": null,
            "align_self": null,
            "height": null,
            "min_height": null,
            "padding": null,
            "grid_auto_rows": null,
            "grid_gap": null,
            "max_width": null,
            "order": null,
            "_view_module_version": "1.2.0",
            "grid_template_areas": null,
            "object_position": null,
            "object_fit": null,
            "grid_auto_columns": null,
            "margin": null,
            "display": null,
            "left": null
          }
        },
        "55b380d332b04efd8a9c72cbe1ab1c47": {
          "model_module": "@jupyter-widgets/controls",
          "model_name": "DescriptionStyleModel",
          "model_module_version": "1.5.0",
          "state": {
            "_view_name": "StyleView",
            "_model_name": "DescriptionStyleModel",
            "description_width": "",
            "_view_module": "@jupyter-widgets/base",
            "_model_module_version": "1.5.0",
            "_view_count": null,
            "_view_module_version": "1.2.0",
            "_model_module": "@jupyter-widgets/controls"
          }
        },
        "3d7b469319dd4b2a9968cd7e3262660f": {
          "model_module": "@jupyter-widgets/base",
          "model_name": "LayoutModel",
          "model_module_version": "1.2.0",
          "state": {
            "_view_name": "LayoutView",
            "grid_template_rows": null,
            "right": null,
            "justify_content": null,
            "_view_module": "@jupyter-widgets/base",
            "overflow": null,
            "_model_module_version": "1.2.0",
            "_view_count": null,
            "flex_flow": null,
            "width": null,
            "min_width": null,
            "border": null,
            "align_items": null,
            "bottom": null,
            "_model_module": "@jupyter-widgets/base",
            "top": null,
            "grid_column": null,
            "overflow_y": null,
            "overflow_x": null,
            "grid_auto_flow": null,
            "grid_area": null,
            "grid_template_columns": null,
            "flex": null,
            "_model_name": "LayoutModel",
            "justify_items": null,
            "grid_row": null,
            "max_height": null,
            "align_content": null,
            "visibility": null,
            "align_self": null,
            "height": null,
            "min_height": null,
            "padding": null,
            "grid_auto_rows": null,
            "grid_gap": null,
            "max_width": null,
            "order": null,
            "_view_module_version": "1.2.0",
            "grid_template_areas": null,
            "object_position": null,
            "object_fit": null,
            "grid_auto_columns": null,
            "margin": null,
            "display": null,
            "left": null
          }
        },
        "e2d2c5d8f51047cfa9ccc5741738b903": {
          "model_module": "@jupyter-widgets/controls",
          "model_name": "HBoxModel",
          "model_module_version": "1.5.0",
          "state": {
            "_view_name": "HBoxView",
            "_dom_classes": [],
            "_model_name": "HBoxModel",
            "_view_module": "@jupyter-widgets/controls",
            "_model_module_version": "1.5.0",
            "_view_count": null,
            "_view_module_version": "1.5.0",
            "box_style": "",
            "layout": "IPY_MODEL_f7fa737a1b2249ee8d9debbbb4c4e1d1",
            "_model_module": "@jupyter-widgets/controls",
            "children": [
              "IPY_MODEL_18013fae8b17485e9609c316161fb29d",
              "IPY_MODEL_90c000c630dd460b8dfd7b5022891dcb",
              "IPY_MODEL_894bca81132a4dca81b2504c4ab320f0"
            ]
          }
        },
        "f7fa737a1b2249ee8d9debbbb4c4e1d1": {
          "model_module": "@jupyter-widgets/base",
          "model_name": "LayoutModel",
          "model_module_version": "1.2.0",
          "state": {
            "_view_name": "LayoutView",
            "grid_template_rows": null,
            "right": null,
            "justify_content": null,
            "_view_module": "@jupyter-widgets/base",
            "overflow": null,
            "_model_module_version": "1.2.0",
            "_view_count": null,
            "flex_flow": null,
            "width": null,
            "min_width": null,
            "border": null,
            "align_items": null,
            "bottom": null,
            "_model_module": "@jupyter-widgets/base",
            "top": null,
            "grid_column": null,
            "overflow_y": null,
            "overflow_x": null,
            "grid_auto_flow": null,
            "grid_area": null,
            "grid_template_columns": null,
            "flex": null,
            "_model_name": "LayoutModel",
            "justify_items": null,
            "grid_row": null,
            "max_height": null,
            "align_content": null,
            "visibility": null,
            "align_self": null,
            "height": null,
            "min_height": null,
            "padding": null,
            "grid_auto_rows": null,
            "grid_gap": null,
            "max_width": null,
            "order": null,
            "_view_module_version": "1.2.0",
            "grid_template_areas": null,
            "object_position": null,
            "object_fit": null,
            "grid_auto_columns": null,
            "margin": null,
            "display": null,
            "left": null
          }
        },
        "18013fae8b17485e9609c316161fb29d": {
          "model_module": "@jupyter-widgets/controls",
          "model_name": "HTMLModel",
          "model_module_version": "1.5.0",
          "state": {
            "_view_name": "HTMLView",
            "style": "IPY_MODEL_ccd5a0e49ff045a99faefb37d464e7e9",
            "_dom_classes": [],
            "description": "",
            "_model_name": "HTMLModel",
            "placeholder": "​",
            "_view_module": "@jupyter-widgets/controls",
            "_model_module_version": "1.5.0",
            "value": "iteration:   8%",
            "_view_count": null,
            "_view_module_version": "1.5.0",
            "description_tooltip": null,
            "_model_module": "@jupyter-widgets/controls",
            "layout": "IPY_MODEL_d97dab3d21594ad98bc6778bc53673cb"
          }
        },
        "90c000c630dd460b8dfd7b5022891dcb": {
          "model_module": "@jupyter-widgets/controls",
          "model_name": "FloatProgressModel",
          "model_module_version": "1.5.0",
          "state": {
            "_view_name": "ProgressView",
            "style": "IPY_MODEL_6917d40cc3ff4eeabc7dd433428bfc0a",
            "_dom_classes": [],
            "description": "",
            "_model_name": "FloatProgressModel",
            "bar_style": "",
            "max": 1050,
            "_view_module": "@jupyter-widgets/controls",
            "_model_module_version": "1.5.0",
            "value": 80,
            "_view_count": null,
            "_view_module_version": "1.5.0",
            "orientation": "horizontal",
            "min": 0,
            "description_tooltip": null,
            "_model_module": "@jupyter-widgets/controls",
            "layout": "IPY_MODEL_4e00673e2f584b2c92e98e1d87659841"
          }
        },
        "894bca81132a4dca81b2504c4ab320f0": {
          "model_module": "@jupyter-widgets/controls",
          "model_name": "HTMLModel",
          "model_module_version": "1.5.0",
          "state": {
            "_view_name": "HTMLView",
            "style": "IPY_MODEL_b73605a636fa4a349d1b5dad95abc431",
            "_dom_classes": [],
            "description": "",
            "_model_name": "HTMLModel",
            "placeholder": "​",
            "_view_module": "@jupyter-widgets/controls",
            "_model_module_version": "1.5.0",
            "value": " 80/1050 [21:59&lt;4:26:05, 16.46s/it]",
            "_view_count": null,
            "_view_module_version": "1.5.0",
            "description_tooltip": null,
            "_model_module": "@jupyter-widgets/controls",
            "layout": "IPY_MODEL_b3f35319e35d420baaa6b90826805c30"
          }
        },
        "ccd5a0e49ff045a99faefb37d464e7e9": {
          "model_module": "@jupyter-widgets/controls",
          "model_name": "DescriptionStyleModel",
          "model_module_version": "1.5.0",
          "state": {
            "_view_name": "StyleView",
            "_model_name": "DescriptionStyleModel",
            "description_width": "",
            "_view_module": "@jupyter-widgets/base",
            "_model_module_version": "1.5.0",
            "_view_count": null,
            "_view_module_version": "1.2.0",
            "_model_module": "@jupyter-widgets/controls"
          }
        },
        "d97dab3d21594ad98bc6778bc53673cb": {
          "model_module": "@jupyter-widgets/base",
          "model_name": "LayoutModel",
          "model_module_version": "1.2.0",
          "state": {
            "_view_name": "LayoutView",
            "grid_template_rows": null,
            "right": null,
            "justify_content": null,
            "_view_module": "@jupyter-widgets/base",
            "overflow": null,
            "_model_module_version": "1.2.0",
            "_view_count": null,
            "flex_flow": null,
            "width": null,
            "min_width": null,
            "border": null,
            "align_items": null,
            "bottom": null,
            "_model_module": "@jupyter-widgets/base",
            "top": null,
            "grid_column": null,
            "overflow_y": null,
            "overflow_x": null,
            "grid_auto_flow": null,
            "grid_area": null,
            "grid_template_columns": null,
            "flex": null,
            "_model_name": "LayoutModel",
            "justify_items": null,
            "grid_row": null,
            "max_height": null,
            "align_content": null,
            "visibility": null,
            "align_self": null,
            "height": null,
            "min_height": null,
            "padding": null,
            "grid_auto_rows": null,
            "grid_gap": null,
            "max_width": null,
            "order": null,
            "_view_module_version": "1.2.0",
            "grid_template_areas": null,
            "object_position": null,
            "object_fit": null,
            "grid_auto_columns": null,
            "margin": null,
            "display": null,
            "left": null
          }
        },
        "6917d40cc3ff4eeabc7dd433428bfc0a": {
          "model_module": "@jupyter-widgets/controls",
          "model_name": "ProgressStyleModel",
          "model_module_version": "1.5.0",
          "state": {
            "_view_name": "StyleView",
            "_model_name": "ProgressStyleModel",
            "description_width": "",
            "_view_module": "@jupyter-widgets/base",
            "_model_module_version": "1.5.0",
            "_view_count": null,
            "_view_module_version": "1.2.0",
            "bar_color": null,
            "_model_module": "@jupyter-widgets/controls"
          }
        },
        "4e00673e2f584b2c92e98e1d87659841": {
          "model_module": "@jupyter-widgets/base",
          "model_name": "LayoutModel",
          "model_module_version": "1.2.0",
          "state": {
            "_view_name": "LayoutView",
            "grid_template_rows": null,
            "right": null,
            "justify_content": null,
            "_view_module": "@jupyter-widgets/base",
            "overflow": null,
            "_model_module_version": "1.2.0",
            "_view_count": null,
            "flex_flow": null,
            "width": null,
            "min_width": null,
            "border": null,
            "align_items": null,
            "bottom": null,
            "_model_module": "@jupyter-widgets/base",
            "top": null,
            "grid_column": null,
            "overflow_y": null,
            "overflow_x": null,
            "grid_auto_flow": null,
            "grid_area": null,
            "grid_template_columns": null,
            "flex": null,
            "_model_name": "LayoutModel",
            "justify_items": null,
            "grid_row": null,
            "max_height": null,
            "align_content": null,
            "visibility": null,
            "align_self": null,
            "height": null,
            "min_height": null,
            "padding": null,
            "grid_auto_rows": null,
            "grid_gap": null,
            "max_width": null,
            "order": null,
            "_view_module_version": "1.2.0",
            "grid_template_areas": null,
            "object_position": null,
            "object_fit": null,
            "grid_auto_columns": null,
            "margin": null,
            "display": null,
            "left": null
          }
        },
        "b73605a636fa4a349d1b5dad95abc431": {
          "model_module": "@jupyter-widgets/controls",
          "model_name": "DescriptionStyleModel",
          "model_module_version": "1.5.0",
          "state": {
            "_view_name": "StyleView",
            "_model_name": "DescriptionStyleModel",
            "description_width": "",
            "_view_module": "@jupyter-widgets/base",
            "_model_module_version": "1.5.0",
            "_view_count": null,
            "_view_module_version": "1.2.0",
            "_model_module": "@jupyter-widgets/controls"
          }
        },
        "b3f35319e35d420baaa6b90826805c30": {
          "model_module": "@jupyter-widgets/base",
          "model_name": "LayoutModel",
          "model_module_version": "1.2.0",
          "state": {
            "_view_name": "LayoutView",
            "grid_template_rows": null,
            "right": null,
            "justify_content": null,
            "_view_module": "@jupyter-widgets/base",
            "overflow": null,
            "_model_module_version": "1.2.0",
            "_view_count": null,
            "flex_flow": null,
            "width": null,
            "min_width": null,
            "border": null,
            "align_items": null,
            "bottom": null,
            "_model_module": "@jupyter-widgets/base",
            "top": null,
            "grid_column": null,
            "overflow_y": null,
            "overflow_x": null,
            "grid_auto_flow": null,
            "grid_area": null,
            "grid_template_columns": null,
            "flex": null,
            "_model_name": "LayoutModel",
            "justify_items": null,
            "grid_row": null,
            "max_height": null,
            "align_content": null,
            "visibility": null,
            "align_self": null,
            "height": null,
            "min_height": null,
            "padding": null,
            "grid_auto_rows": null,
            "grid_gap": null,
            "max_width": null,
            "order": null,
            "_view_module_version": "1.2.0",
            "grid_template_areas": null,
            "object_position": null,
            "object_fit": null,
            "grid_auto_columns": null,
            "margin": null,
            "display": null,
            "left": null
          }
        }
      }
    }
  },
  "cells": [
    {
      "cell_type": "markdown",
      "metadata": {
        "id": "view-in-github",
        "colab_type": "text"
      },
      "source": [
        "<a href=\"https://colab.research.google.com/github/JupiterXiaoxiaoYu/BERT-NER-Pytorch/blob/master/Deep_Daze.ipynb\" target=\"_parent\"><img src=\"https://colab.research.google.com/assets/colab-badge.svg\" alt=\"Open In Colab\"/></a>"
      ]
    },
    {
      "cell_type": "code",
      "metadata": {
        "colab": {
          "base_uri": "https://localhost:8080/"
        },
        "id": "YpRu6LTR2LbD",
        "outputId": "c3e42140-ad12-4e0c-b852-74029732b7fa"
      },
      "source": [
        "!pip install deep-daze --upgrade"
      ],
      "execution_count": 2,
      "outputs": [
        {
          "output_type": "stream",
          "name": "stdout",
          "text": [
            "Collecting deep-daze\n",
            "  Downloading deep_daze-0.10.2-py3-none-any.whl (1.4 MB)\n",
            "\u001b[?25l\r\u001b[K     |▎                               | 10 kB 15.2 MB/s eta 0:00:01\r\u001b[K     |▌                               | 20 kB 17.4 MB/s eta 0:00:01\r\u001b[K     |▊                               | 30 kB 21.2 MB/s eta 0:00:01\r\u001b[K     |█                               | 40 kB 13.0 MB/s eta 0:00:01\r\u001b[K     |█▏                              | 51 kB 6.4 MB/s eta 0:00:01\r\u001b[K     |█▍                              | 61 kB 7.0 MB/s eta 0:00:01\r\u001b[K     |█▋                              | 71 kB 6.0 MB/s eta 0:00:01\r\u001b[K     |██                              | 81 kB 6.8 MB/s eta 0:00:01\r\u001b[K     |██▏                             | 92 kB 5.4 MB/s eta 0:00:01\r\u001b[K     |██▍                             | 102 kB 5.7 MB/s eta 0:00:01\r\u001b[K     |██▋                             | 112 kB 5.7 MB/s eta 0:00:01\r\u001b[K     |██▉                             | 122 kB 5.7 MB/s eta 0:00:01\r\u001b[K     |███                             | 133 kB 5.7 MB/s eta 0:00:01\r\u001b[K     |███▎                            | 143 kB 5.7 MB/s eta 0:00:01\r\u001b[K     |███▋                            | 153 kB 5.7 MB/s eta 0:00:01\r\u001b[K     |███▉                            | 163 kB 5.7 MB/s eta 0:00:01\r\u001b[K     |████                            | 174 kB 5.7 MB/s eta 0:00:01\r\u001b[K     |████▎                           | 184 kB 5.7 MB/s eta 0:00:01\r\u001b[K     |████▌                           | 194 kB 5.7 MB/s eta 0:00:01\r\u001b[K     |████▊                           | 204 kB 5.7 MB/s eta 0:00:01\r\u001b[K     |█████                           | 215 kB 5.7 MB/s eta 0:00:01\r\u001b[K     |█████▎                          | 225 kB 5.7 MB/s eta 0:00:01\r\u001b[K     |█████▌                          | 235 kB 5.7 MB/s eta 0:00:01\r\u001b[K     |█████▊                          | 245 kB 5.7 MB/s eta 0:00:01\r\u001b[K     |██████                          | 256 kB 5.7 MB/s eta 0:00:01\r\u001b[K     |██████▏                         | 266 kB 5.7 MB/s eta 0:00:01\r\u001b[K     |██████▍                         | 276 kB 5.7 MB/s eta 0:00:01\r\u001b[K     |██████▋                         | 286 kB 5.7 MB/s eta 0:00:01\r\u001b[K     |███████                         | 296 kB 5.7 MB/s eta 0:00:01\r\u001b[K     |███████▏                        | 307 kB 5.7 MB/s eta 0:00:01\r\u001b[K     |███████▍                        | 317 kB 5.7 MB/s eta 0:00:01\r\u001b[K     |███████▋                        | 327 kB 5.7 MB/s eta 0:00:01\r\u001b[K     |███████▉                        | 337 kB 5.7 MB/s eta 0:00:01\r\u001b[K     |████████                        | 348 kB 5.7 MB/s eta 0:00:01\r\u001b[K     |████████▎                       | 358 kB 5.7 MB/s eta 0:00:01\r\u001b[K     |████████▋                       | 368 kB 5.7 MB/s eta 0:00:01\r\u001b[K     |████████▉                       | 378 kB 5.7 MB/s eta 0:00:01\r\u001b[K     |█████████                       | 389 kB 5.7 MB/s eta 0:00:01\r\u001b[K     |█████████▎                      | 399 kB 5.7 MB/s eta 0:00:01\r\u001b[K     |█████████▌                      | 409 kB 5.7 MB/s eta 0:00:01\r\u001b[K     |█████████▊                      | 419 kB 5.7 MB/s eta 0:00:01\r\u001b[K     |██████████                      | 430 kB 5.7 MB/s eta 0:00:01\r\u001b[K     |██████████▎                     | 440 kB 5.7 MB/s eta 0:00:01\r\u001b[K     |██████████▌                     | 450 kB 5.7 MB/s eta 0:00:01\r\u001b[K     |██████████▊                     | 460 kB 5.7 MB/s eta 0:00:01\r\u001b[K     |███████████                     | 471 kB 5.7 MB/s eta 0:00:01\r\u001b[K     |███████████▏                    | 481 kB 5.7 MB/s eta 0:00:01\r\u001b[K     |███████████▍                    | 491 kB 5.7 MB/s eta 0:00:01\r\u001b[K     |███████████▋                    | 501 kB 5.7 MB/s eta 0:00:01\r\u001b[K     |████████████                    | 512 kB 5.7 MB/s eta 0:00:01\r\u001b[K     |████████████▏                   | 522 kB 5.7 MB/s eta 0:00:01\r\u001b[K     |████████████▍                   | 532 kB 5.7 MB/s eta 0:00:01\r\u001b[K     |████████████▋                   | 542 kB 5.7 MB/s eta 0:00:01\r\u001b[K     |████████████▉                   | 552 kB 5.7 MB/s eta 0:00:01\r\u001b[K     |█████████████                   | 563 kB 5.7 MB/s eta 0:00:01\r\u001b[K     |█████████████▎                  | 573 kB 5.7 MB/s eta 0:00:01\r\u001b[K     |█████████████▋                  | 583 kB 5.7 MB/s eta 0:00:01\r\u001b[K     |█████████████▉                  | 593 kB 5.7 MB/s eta 0:00:01\r\u001b[K     |██████████████                  | 604 kB 5.7 MB/s eta 0:00:01\r\u001b[K     |██████████████▎                 | 614 kB 5.7 MB/s eta 0:00:01\r\u001b[K     |██████████████▌                 | 624 kB 5.7 MB/s eta 0:00:01\r\u001b[K     |██████████████▊                 | 634 kB 5.7 MB/s eta 0:00:01\r\u001b[K     |███████████████                 | 645 kB 5.7 MB/s eta 0:00:01\r\u001b[K     |███████████████▎                | 655 kB 5.7 MB/s eta 0:00:01\r\u001b[K     |███████████████▌                | 665 kB 5.7 MB/s eta 0:00:01\r\u001b[K     |███████████████▊                | 675 kB 5.7 MB/s eta 0:00:01\r\u001b[K     |████████████████                | 686 kB 5.7 MB/s eta 0:00:01\r\u001b[K     |████████████████▏               | 696 kB 5.7 MB/s eta 0:00:01\r\u001b[K     |████████████████▍               | 706 kB 5.7 MB/s eta 0:00:01\r\u001b[K     |████████████████▋               | 716 kB 5.7 MB/s eta 0:00:01\r\u001b[K     |█████████████████               | 727 kB 5.7 MB/s eta 0:00:01\r\u001b[K     |█████████████████▏              | 737 kB 5.7 MB/s eta 0:00:01\r\u001b[K     |█████████████████▍              | 747 kB 5.7 MB/s eta 0:00:01\r\u001b[K     |█████████████████▋              | 757 kB 5.7 MB/s eta 0:00:01\r\u001b[K     |█████████████████▉              | 768 kB 5.7 MB/s eta 0:00:01\r\u001b[K     |██████████████████              | 778 kB 5.7 MB/s eta 0:00:01\r\u001b[K     |██████████████████▎             | 788 kB 5.7 MB/s eta 0:00:01\r\u001b[K     |██████████████████▋             | 798 kB 5.7 MB/s eta 0:00:01\r\u001b[K     |██████████████████▉             | 808 kB 5.7 MB/s eta 0:00:01\r\u001b[K     |███████████████████             | 819 kB 5.7 MB/s eta 0:00:01\r\u001b[K     |███████████████████▎            | 829 kB 5.7 MB/s eta 0:00:01\r\u001b[K     |███████████████████▌            | 839 kB 5.7 MB/s eta 0:00:01\r\u001b[K     |███████████████████▊            | 849 kB 5.7 MB/s eta 0:00:01\r\u001b[K     |████████████████████            | 860 kB 5.7 MB/s eta 0:00:01\r\u001b[K     |████████████████████▎           | 870 kB 5.7 MB/s eta 0:00:01\r\u001b[K     |████████████████████▌           | 880 kB 5.7 MB/s eta 0:00:01\r\u001b[K     |████████████████████▊           | 890 kB 5.7 MB/s eta 0:00:01\r\u001b[K     |█████████████████████           | 901 kB 5.7 MB/s eta 0:00:01\r\u001b[K     |█████████████████████▏          | 911 kB 5.7 MB/s eta 0:00:01\r\u001b[K     |█████████████████████▍          | 921 kB 5.7 MB/s eta 0:00:01\r\u001b[K     |█████████████████████▋          | 931 kB 5.7 MB/s eta 0:00:01\r\u001b[K     |██████████████████████          | 942 kB 5.7 MB/s eta 0:00:01\r\u001b[K     |██████████████████████▏         | 952 kB 5.7 MB/s eta 0:00:01\r\u001b[K     |██████████████████████▍         | 962 kB 5.7 MB/s eta 0:00:01\r\u001b[K     |██████████████████████▋         | 972 kB 5.7 MB/s eta 0:00:01\r\u001b[K     |██████████████████████▉         | 983 kB 5.7 MB/s eta 0:00:01\r\u001b[K     |███████████████████████         | 993 kB 5.7 MB/s eta 0:00:01\r\u001b[K     |███████████████████████▎        | 1.0 MB 5.7 MB/s eta 0:00:01\r\u001b[K     |███████████████████████▋        | 1.0 MB 5.7 MB/s eta 0:00:01\r\u001b[K     |███████████████████████▉        | 1.0 MB 5.7 MB/s eta 0:00:01\r\u001b[K     |████████████████████████        | 1.0 MB 5.7 MB/s eta 0:00:01\r\u001b[K     |████████████████████████▎       | 1.0 MB 5.7 MB/s eta 0:00:01\r\u001b[K     |████████████████████████▌       | 1.1 MB 5.7 MB/s eta 0:00:01\r\u001b[K     |████████████████████████▊       | 1.1 MB 5.7 MB/s eta 0:00:01\r\u001b[K     |█████████████████████████       | 1.1 MB 5.7 MB/s eta 0:00:01\r\u001b[K     |█████████████████████████▏      | 1.1 MB 5.7 MB/s eta 0:00:01\r\u001b[K     |█████████████████████████▌      | 1.1 MB 5.7 MB/s eta 0:00:01\r\u001b[K     |█████████████████████████▊      | 1.1 MB 5.7 MB/s eta 0:00:01\r\u001b[K     |██████████████████████████      | 1.1 MB 5.7 MB/s eta 0:00:01\r\u001b[K     |██████████████████████████▏     | 1.1 MB 5.7 MB/s eta 0:00:01\r\u001b[K     |██████████████████████████▍     | 1.1 MB 5.7 MB/s eta 0:00:01\r\u001b[K     |██████████████████████████▋     | 1.1 MB 5.7 MB/s eta 0:00:01\r\u001b[K     |██████████████████████████▉     | 1.2 MB 5.7 MB/s eta 0:00:01\r\u001b[K     |███████████████████████████▏    | 1.2 MB 5.7 MB/s eta 0:00:01\r\u001b[K     |███████████████████████████▍    | 1.2 MB 5.7 MB/s eta 0:00:01\r\u001b[K     |███████████████████████████▋    | 1.2 MB 5.7 MB/s eta 0:00:01\r\u001b[K     |███████████████████████████▉    | 1.2 MB 5.7 MB/s eta 0:00:01\r\u001b[K     |████████████████████████████    | 1.2 MB 5.7 MB/s eta 0:00:01\r\u001b[K     |████████████████████████████▎   | 1.2 MB 5.7 MB/s eta 0:00:01\r\u001b[K     |████████████████████████████▌   | 1.2 MB 5.7 MB/s eta 0:00:01\r\u001b[K     |████████████████████████████▉   | 1.2 MB 5.7 MB/s eta 0:00:01\r\u001b[K     |█████████████████████████████   | 1.2 MB 5.7 MB/s eta 0:00:01\r\u001b[K     |█████████████████████████████▎  | 1.3 MB 5.7 MB/s eta 0:00:01\r\u001b[K     |█████████████████████████████▌  | 1.3 MB 5.7 MB/s eta 0:00:01\r\u001b[K     |█████████████████████████████▊  | 1.3 MB 5.7 MB/s eta 0:00:01\r\u001b[K     |██████████████████████████████  | 1.3 MB 5.7 MB/s eta 0:00:01\r\u001b[K     |██████████████████████████████▏ | 1.3 MB 5.7 MB/s eta 0:00:01\r\u001b[K     |██████████████████████████████▌ | 1.3 MB 5.7 MB/s eta 0:00:01\r\u001b[K     |██████████████████████████████▊ | 1.3 MB 5.7 MB/s eta 0:00:01\r\u001b[K     |███████████████████████████████ | 1.3 MB 5.7 MB/s eta 0:00:01\r\u001b[K     |███████████████████████████████▏| 1.3 MB 5.7 MB/s eta 0:00:01\r\u001b[K     |███████████████████████████████▍| 1.4 MB 5.7 MB/s eta 0:00:01\r\u001b[K     |███████████████████████████████▋| 1.4 MB 5.7 MB/s eta 0:00:01\r\u001b[K     |███████████████████████████████▉| 1.4 MB 5.7 MB/s eta 0:00:01\r\u001b[K     |████████████████████████████████| 1.4 MB 5.7 MB/s \n",
            "\u001b[?25hRequirement already satisfied: torch>=1.7.1 in /usr/local/lib/python3.7/dist-packages (from deep-daze) (1.9.0+cu111)\n",
            "Requirement already satisfied: regex in /usr/local/lib/python3.7/dist-packages (from deep-daze) (2019.12.20)\n",
            "Collecting einops>=0.3\n",
            "  Downloading einops-0.3.2-py3-none-any.whl (25 kB)\n",
            "Requirement already satisfied: torchvision>=0.8.2 in /usr/local/lib/python3.7/dist-packages (from deep-daze) (0.10.0+cu111)\n",
            "Collecting fire\n",
            "  Downloading fire-0.4.0.tar.gz (87 kB)\n",
            "\u001b[K     |████████████████████████████████| 87 kB 6.5 MB/s \n",
            "\u001b[?25hCollecting imageio>=2.9.0\n",
            "  Downloading imageio-2.9.0-py3-none-any.whl (3.3 MB)\n",
            "\u001b[K     |████████████████████████████████| 3.3 MB 27.4 MB/s \n",
            "\u001b[?25hCollecting siren-pytorch>=0.0.8\n",
            "  Downloading siren_pytorch-0.1.5-py3-none-any.whl (3.9 kB)\n",
            "Requirement already satisfied: tqdm in /usr/local/lib/python3.7/dist-packages (from deep-daze) (4.62.3)\n",
            "Collecting torch-optimizer\n",
            "  Downloading torch_optimizer-0.1.0-py3-none-any.whl (72 kB)\n",
            "\u001b[K     |████████████████████████████████| 72 kB 846 kB/s \n",
            "\u001b[?25hCollecting ftfy\n",
            "  Downloading ftfy-6.0.3.tar.gz (64 kB)\n",
            "\u001b[K     |████████████████████████████████| 64 kB 2.1 MB/s \n",
            "\u001b[?25hRequirement already satisfied: pillow in /usr/local/lib/python3.7/dist-packages (from imageio>=2.9.0->deep-daze) (7.1.2)\n",
            "Requirement already satisfied: numpy in /usr/local/lib/python3.7/dist-packages (from imageio>=2.9.0->deep-daze) (1.19.5)\n",
            "Requirement already satisfied: typing-extensions in /usr/local/lib/python3.7/dist-packages (from torch>=1.7.1->deep-daze) (3.7.4.3)\n",
            "Requirement already satisfied: six in /usr/local/lib/python3.7/dist-packages (from fire->deep-daze) (1.15.0)\n",
            "Requirement already satisfied: termcolor in /usr/local/lib/python3.7/dist-packages (from fire->deep-daze) (1.1.0)\n",
            "Requirement already satisfied: wcwidth in /usr/local/lib/python3.7/dist-packages (from ftfy->deep-daze) (0.2.5)\n",
            "Collecting pytorch-ranger>=0.1.1\n",
            "  Downloading pytorch_ranger-0.1.1-py3-none-any.whl (14 kB)\n",
            "Building wheels for collected packages: fire, ftfy\n",
            "  Building wheel for fire (setup.py) ... \u001b[?25l\u001b[?25hdone\n",
            "  Created wheel for fire: filename=fire-0.4.0-py2.py3-none-any.whl size=115943 sha256=8b6f4748b5f9afa33860175bf864837be6a9ee9ea183a9565baf770125f5f4c1\n",
            "  Stored in directory: /root/.cache/pip/wheels/8a/67/fb/2e8a12fa16661b9d5af1f654bd199366799740a85c64981226\n",
            "  Building wheel for ftfy (setup.py) ... \u001b[?25l\u001b[?25hdone\n",
            "  Created wheel for ftfy: filename=ftfy-6.0.3-py3-none-any.whl size=41933 sha256=e970524d206199acd35a3971138bc9857b449efffc0f62435507fb48dafc2501\n",
            "  Stored in directory: /root/.cache/pip/wheels/19/f5/38/273eb3b5e76dfd850619312f693716ac4518b498f5ffb6f56d\n",
            "Successfully built fire ftfy\n",
            "Installing collected packages: pytorch-ranger, einops, torch-optimizer, siren-pytorch, imageio, ftfy, fire, deep-daze\n",
            "  Attempting uninstall: imageio\n",
            "    Found existing installation: imageio 2.4.1\n",
            "    Uninstalling imageio-2.4.1:\n",
            "      Successfully uninstalled imageio-2.4.1\n",
            "\u001b[31mERROR: pip's dependency resolver does not currently take into account all the packages that are installed. This behaviour is the source of the following dependency conflicts.\n",
            "albumentations 0.1.12 requires imgaug<0.2.7,>=0.2.5, but you have imgaug 0.2.9 which is incompatible.\u001b[0m\n",
            "Successfully installed deep-daze-0.10.2 einops-0.3.2 fire-0.4.0 ftfy-6.0.3 imageio-2.9.0 pytorch-ranger-0.1.1 siren-pytorch-0.1.5 torch-optimizer-0.1.0\n"
          ]
        }
      ]
    },
    {
      "cell_type": "code",
      "metadata": {
        "colab": {
          "base_uri": "https://localhost:8080/",
          "height": 289,
          "referenced_widgets": [
            "3ef01c84946646cab3314fd7259f9103",
            "694c7c9bd5fd4063b84d27bd17f031c2",
            "1e2bd9d543da4d3cb6f3c6fcf3ec5a22",
            "b73081131d33449494f35dacc38b89ff",
            "7a3184cb0f074868863c78d95dd887df",
            "1f119cae2d8042adba0a94be84ad747e",
            "2aebcc79d3f74ef3bdccf94b6fe5c520",
            "c7f083d89a6e4e79ab17b5c98c4cadea",
            "2f0c8e7940884e5ab782afca93a5f727",
            "55b380d332b04efd8a9c72cbe1ab1c47",
            "3d7b469319dd4b2a9968cd7e3262660f",
            "e2d2c5d8f51047cfa9ccc5741738b903",
            "f7fa737a1b2249ee8d9debbbb4c4e1d1",
            "18013fae8b17485e9609c316161fb29d",
            "90c000c630dd460b8dfd7b5022891dcb",
            "894bca81132a4dca81b2504c4ab320f0",
            "ccd5a0e49ff045a99faefb37d464e7e9",
            "d97dab3d21594ad98bc6778bc53673cb",
            "6917d40cc3ff4eeabc7dd433428bfc0a",
            "4e00673e2f584b2c92e98e1d87659841",
            "b73605a636fa4a349d1b5dad95abc431",
            "b3f35319e35d420baaa6b90826805c30"
          ]
        },
        "id": "6IPQ_rdA2Sa7",
        "outputId": "3b42dd85-60a3-4e7c-87a7-39246eee6348"
      },
      "source": [
        "from tqdm.notebook import trange\n",
        "from IPython.display import Image, display\n",
        "\n",
        "from deep_daze import Imagine\n",
        "\n",
        "TEXT = 'demon kills god and the world becomes hell, a worrior goes to beat that demon however nothing could save the world' #@param {type:\"string\"}\n",
        "NUM_LAYERS = 32 #@param {type:\"number\"}\n",
        "SAVE_EVERY =  20#@param {type:\"number\"}\n",
        "IMAGE_WIDTH = 512 #@param {type:\"number\"}\n",
        "SAVE_PROGRESS = True #@param {type:\"boolean\"}\n",
        "LEARNING_RATE = 1e-5 #@param {type:\"number\"}\n",
        "ITERATIONS = 1050 #@param {type:\"number\"}\n",
        "\n",
        "model = Imagine(\n",
        "    text = TEXT,\n",
        "    create_story = True,\n",
        "    num_layers = NUM_LAYERS,\n",
        "    save_every = SAVE_EVERY,\n",
        "    image_width = IMAGE_WIDTH,\n",
        "    lr = LEARNING_RATE,\n",
        "    iterations = ITERATIONS,\n",
        "    save_progress = SAVE_PROGRESS\n",
        ")\n",
        "\n",
        "for epoch in trange(20, desc = 'epochs'):\n",
        "    for i in trange(ITERATIONS, desc = 'iteration'):\n",
        "        model.train_step(epoch, i)\n",
        "\n",
        "        if i % model.save_every != 0:\n",
        "            continue\n",
        "\n",
        "        filename = TEXT.replace(' ', '_')\n",
        "        image = Image(f'./{filename}.jpg')\n",
        "        display(image)"
      ],
      "execution_count": null,
      "outputs": [
        {
          "metadata": {
            "tags": null
          },
          "name": "stdout",
          "output_type": "stream",
          "text": [
            "Running for 5 epochs\n",
            "Setting jit to False because torch version is not 1.7.1.\n"
          ]
        },
        {
          "metadata": {
            "tags": null
          },
          "name": "stderr",
          "output_type": "stream",
          "text": [
            "Downloading ViT-B-32.pt: 100%|██████████| 354M/354M [00:02<00:00, 167MiB/s]\n"
          ]
        },
        {
          "metadata": {
            "tags": null
          },
          "name": "stdout",
          "output_type": "stream",
          "text": [
            "Now thinking of:  \" demon kills god and the \"\n"
          ]
        },
        {
          "data": {
            "application/vnd.jupyter.widget-view+json": {
              "model_id": "3ef01c84946646cab3314fd7259f9103",
              "version_major": 2,
              "version_minor": 0
            },
            "text/plain": [
              "epochs:   0%|          | 0/20 [00:00<?, ?it/s]"
            ]
          },
          "metadata": {},
          "output_type": "display_data"
        },
        {
          "data": {
            "application/vnd.jupyter.widget-view+json": {
              "model_id": "e2d2c5d8f51047cfa9ccc5741738b903",
              "version_major": 2,
              "version_minor": 0
            },
            "text/plain": [
              "iteration:   0%|          | 0/1050 [00:00<?, ?it/s]"
            ]
          },
          "metadata": {},
          "output_type": "display_data"
        },
        {
          "metadata": {
            "tags": null
          },
          "name": "stdout",
          "output_type": "stream",
          "text": [
            "image updated at \"./demon_kills_god_and_the_world_becomes_hell,_a_worrior_goes_to_beat_that_demon.jpg\"\n"
          ]
        },
        {
          "data": {
            "image/png": "./demon_kills_god_and_the_world_becomes_hell,_a_worrior_goes_to_beat_that_demon_however_nothing_could_save_the_world.jpg",
            "text/plain": [
              "<IPython.core.display.Image object>"
            ]
          },
          "metadata": {},
          "output_type": "display_data"
        },
        {
          "output_type": "stream",
          "name": "stdout",
          "text": [
            "image updated at \"./demon_kills_god_and_the_world_becomes_hell,_a_worrior_goes_to_beat_that_demon.000001.jpg\"\n"
          ]
        },
        {
          "output_type": "display_data",
          "data": {
            "image/png": "./demon_kills_god_and_the_world_becomes_hell,_a_worrior_goes_to_beat_that_demon_however_nothing_could_save_the_world.jpg",
            "text/plain": [
              "<IPython.core.display.Image object>"
            ]
          },
          "metadata": {}
        },
        {
          "output_type": "stream",
          "name": "stdout",
          "text": [
            "image updated at \"./demon_kills_god_and_the_world_becomes_hell,_a_worrior_goes_to_beat_that_demon.000002.jpg\"\n"
          ]
        },
        {
          "output_type": "display_data",
          "data": {
            "image/png": "./demon_kills_god_and_the_world_becomes_hell,_a_worrior_goes_to_beat_that_demon_however_nothing_could_save_the_world.jpg",
            "text/plain": [
              "<IPython.core.display.Image object>"
            ]
          },
          "metadata": {}
        },
        {
          "output_type": "stream",
          "name": "stdout",
          "text": [
            "image updated at \"./demon_kills_god_and_the_world_becomes_hell,_a_worrior_goes_to_beat_that_demon.000003.jpg\"\n"
          ]
        },
        {
          "output_type": "display_data",
          "data": {
            "image/png": "./demon_kills_god_and_the_world_becomes_hell,_a_worrior_goes_to_beat_that_demon_however_nothing_could_save_the_world.jpg",
            "text/plain": [
              "<IPython.core.display.Image object>"
            ]
          },
          "metadata": {}
        }
      ]
    },
    {
      "cell_type": "markdown",
      "metadata": {
        "id": "cyFIYekjaOA8"
      },
      "source": [
        "# 新段落"
      ]
    },
    {
      "cell_type": "code",
      "metadata": {
        "id": "n1crEcdUY42B"
      },
      "source": [
        ""
      ],
      "execution_count": null,
      "outputs": []
    }
  ]
}